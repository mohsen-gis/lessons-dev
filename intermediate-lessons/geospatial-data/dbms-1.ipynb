{
 "cells": [
  {
   "cell_type": "markdown",
   "metadata": {
    "slideshow": {
     "slide_type": "slide"
    }
   },
   "source": [
    "## Geospatial Data \n",
    "\n",
    "### Part 1 of n\n",
    "# Structured Query Language (SQL)\n",
    "### Talking to a Database through Queries "
   ]
  },
  {
   "cell_type": "markdown",
   "metadata": {
    "slideshow": {
     "slide_type": "slide"
    }
   },
   "source": [
    "## Thank you for helping our study\n",
    "\n",
    "\n",
    "<a href=\"#/slide-1-0\" class=\"navigate-right\" style=\"background-color:blue;color:white;padding:8px;margin:2px;font-weight:bold;\">Continue with the lesson</a>\n",
    "\n",
    "Throughout this lesson you will see reminders, like the one below, to ensure that all participants understand that they are in a voluntary research study.\n",
    "\n",
    "### Reminder\n",
    "\n",
    "<font size=\"+1\">\n",
    "\n",
    "By continuing with this lesson you are granting your permission to take part in this research study for the Hour of Cyberinfrastructure: Developing Cyber Literacy for GIScience project. In this study, you will be learning about cyberinfrastructure and related concepts using a web-based platform that will take approximately one hour per lesson. Participation in this study is voluntary.\n",
    "\n",
    "Participants in this research must be 18 years or older. If you are under the age of 18 then please exit this webpage or navigate to another website such as the Hour of Code at https://hourofcode.com, which is designed for K-12 students.\n",
    "\n",
    "If you are not interested in participating please exit the browser or navigate to this website: http://www.umn.edu. Your participation is voluntary and you are free to stop the lesson at any time.\n",
    "\n",
    "For the full description please navigate to this website: <a href=\"../../gateway-lesson/gateway/gateway-1.ipynb\">Gateway Lesson Research Study Permission</a>.\n",
    "\n",
    "</font>"
   ]
  },
  {
   "cell_type": "markdown",
   "metadata": {
    "slideshow": {
     "slide_type": "slide"
    }
   },
   "source": [
    "## What is a Database?\n",
    "To find out what database is, we have to start from data, which is the basic building block of any DBMS\n"
   ]
  },
  {
   "cell_type": "markdown",
   "metadata": {
    "slideshow": {
     "slide_type": "slide"
    }
   },
   "source": [
    "## What is a query language?\n",
    "\n",
    "A query language specifies how to access the data in\n",
    "the database"
   ]
  },
  {
   "cell_type": "markdown",
   "metadata": {
    "slideshow": {
     "slide_type": "slide"
    }
   },
   "source": [
    "## Data: \n",
    "Facts, figures, statistics etc. having no particular meaning (e.g. 1, ABC, 19 etc).\n"
   ]
  },
  {
   "cell_type": "markdown",
   "metadata": {
    "slideshow": {
     "slide_type": "slide"
    }
   },
   "source": [
    "## Record: \n",
    "Collection of related data items, e.g. in the above example the three data items had no meaning. But if we organize them in the following way, then they collectively represent meaningful information.\n",
    "\n",
    "<table>\n",
    "        <tr>\n",
    "            <th>No.</th>\n",
    "            <th>Name</th>\n",
    "            <th>Age</th>\n",
    "        </tr>\n",
    "        <tr>\n",
    "            <td>3</td>\n",
    "            <td>Student 3</td>\n",
    "            <td>30</td>\n",
    "        </tr>\n",
    "        \n",
    "</table>"
   ]
  },
  {
   "cell_type": "markdown",
   "metadata": {
    "slideshow": {
     "slide_type": "slide"
    }
   },
   "source": [
    "## Table or Relation: \n",
    "Collection of related records.\n",
    "\n",
    "<table>\n",
    "        <tr>\n",
    "            <th>No.</th>\n",
    "            <th>Name</th>\n",
    "            <th>Age</th>\n",
    "        </tr>\n",
    "        <tr>\n",
    "            <td>1</td>\n",
    "            <td>Student 1</td>\n",
    "            <td>20</td>\n",
    "        </tr>\n",
    "        <tr>\n",
    "            <td>2</td>\n",
    "            <td>Student 2</td>\n",
    "            <td>28</td>\n",
    "        </tr>\n",
    "        <tr>\n",
    "            <td>3</td>\n",
    "            <td>Student 3</td>\n",
    "            <td>30</td>\n",
    "        </tr>\n",
    "    </table>"
   ]
  },
  {
   "cell_type": "markdown",
   "metadata": {
    "slideshow": {
     "slide_type": "slide"
    }
   },
   "source": [
    "## Fields:\n",
    "The columns of this relation are called Fields, Attributes or Domains\n",
    "\n",
    "<table>\n",
    "    <tr>\n",
    "        <th>Age</th>\n",
    "    </tr>\n",
    "    <tr>\n",
    "        <td>20</td>\n",
    "    </tr>\n",
    "    <tr>\n",
    "        <td>28</td>\n",
    "    </tr>\n",
    "    <tr>\n",
    "        <td>30</td>\n",
    "    </tr>\n",
    "</table>"
   ]
  },
  {
   "cell_type": "markdown",
   "metadata": {
    "slideshow": {
     "slide_type": "slide"
    }
   },
   "source": [
    "## Database: \n",
    "Collection of related relations. "
   ]
  },
  {
   "cell_type": "markdown",
   "metadata": {
    "slideshow": {
     "slide_type": "slide"
    }
   },
   "source": [
    "## What is Management System?\n",
    "A database-management system (DBMS) is a collection of interrelated data and a set of programs to access\n",
    "those data. This is a collection of related data with an implicit meaning and hence is a database. The collection\n",
    "of data, usually referred to as the database, contains information relevant to an enterprise. The primary goal of\n",
    "a DBMS is to provide a way to store and retrieve database information that is both convenient and efficient. By\n",
    "data, we mean known facts that can be recorded and that have implicit meaning."
   ]
  },
  {
   "cell_type": "markdown",
   "metadata": {
    "slideshow": {
     "slide_type": "slide"
    }
   },
   "source": [
    "## Database Management System (DBMS) and Its Applications:\n",
    "A Database management system is a computerized record-keeping system. It is a repository or a container for\n",
    "collection of computerized data files. The overall purpose of DBMS is to allow he users to define, store, retrieve\n",
    "and update the information contained in the database on demand. Information can be anything that is of\n",
    "significance to an individual or organization."
   ]
  },
  {
   "cell_type": "markdown",
   "metadata": {
    "slideshow": {
     "slide_type": "slide"
    }
   },
   "source": [
    "## What is a Spatial Database?\n",
    "\n",
    "PostGIS is a spatial database. Oracle Spatial and SQL Server (2008 and later) are also spatial databases. But what does that mean; what is it that makes an ordinary database a spatial database?\n",
    "\n",
    "The short answer, is…\n",
    "\n",
    "*Spatial databases store and manipulate spatial objects like any other object in the database.*"
   ]
  },
  {
   "cell_type": "markdown",
   "metadata": {
    "slideshow": {
     "slide_type": "slide"
    }
   },
   "source": [
    "Ok! Now let's move on to the next part and delve into a pseudorealism-real database! \n",
    "\n",
    "<font size=\"+1\"><a style=\"background-color:blue;color:white;padding:12px;margin:10px;font-weight:bold;\" href=\"dbms-2.ipynb\">Click here to go to the next notebook.</a></font>"
   ]
  }
 ],
 "metadata": {
  "celltoolbar": "Slideshow",
  "kernelspec": {
   "display_name": "Python 3 (ipykernel)",
   "language": "python",
   "name": "python3"
  },
  "language_info": {
   "codemirror_mode": {
    "name": "ipython",
    "version": 3
   },
   "file_extension": ".py",
   "mimetype": "text/x-python",
   "name": "python",
   "nbconvert_exporter": "python",
   "pygments_lexer": "ipython3",
   "version": "3.9.5"
  },
  "rise": {
   "autolaunch": true,
   "overlay": "<div class='hciheader'></div><div class='hcifooter'></div>",
   "scroll": true
  }
 },
 "nbformat": 4,
 "nbformat_minor": 4
}
