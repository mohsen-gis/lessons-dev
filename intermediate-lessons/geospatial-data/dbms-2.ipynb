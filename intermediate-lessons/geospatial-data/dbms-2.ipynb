{
 "cells": [
  {
   "cell_type": "markdown",
   "id": "61ef5b21",
   "metadata": {
    "slideshow": {
     "slide_type": "slide"
    }
   },
   "source": [
    "## Geospatial Data \n",
    "\n",
    "### Part 2 of n\n",
    "# Structured Query Language (SQL)\n",
    "### Talking to a Database through Queries \n",
    "\n"
   ]
  },
  {
   "cell_type": "markdown",
   "id": "81964d2d",
   "metadata": {
    "slideshow": {
     "slide_type": "slide"
    }
   },
   "source": [
    "## Reminder\n",
    "<a href=\"#/slide-2-0\" class=\"navigate-right\" style=\"background-color:blue;color:white;padding:8px;margin:2px;font-weight:bold;\">Continue with the lesson</a>\n",
    "\n",
    "<br>\n",
    "</br>\n",
    "<font size=\"+1\">\n",
    "\n",
    "By continuing with this lesson you are granting your permission to take part in this research study for the Hour of Cyberinfrastructure: Developing Cyber Literacy for GIScience project. In this study, you will be learning about cyberinfrastructure and related concepts using a web-based platform that will take approximately one hour per lesson. Participation in this study is voluntary.\n",
    "\n",
    "Participants in this research must be 18 years or older. If you are under the age of 18 then please exit this webpage or navigate to another website such as the Hour of Code at https://hourofcode.com, which is designed for K-12 students.\n",
    "\n",
    "If you are not interested in participating please exit the browser or navigate to this website: http://www.umn.edu. Your participation is voluntary and you are free to stop the lesson at any time.\n",
    "\n",
    "For the full description please navigate to this website: <a href=\"../../gateway-lesson/gateway/gateway-1.ipynb\">Gateway Lesson Research Study Permission</a>.\n",
    "\n",
    "</font>"
   ]
  },
  {
   "cell_type": "code",
   "execution_count": 52,
   "id": "e5fafe56",
   "metadata": {
    "hide_input": true,
    "init_cell": true,
    "slideshow": {
     "slide_type": "skip"
    },
    "tags": [
     "Hide"
    ]
   },
   "outputs": [
    {
     "data": {
      "text/html": [
       " \n",
       "    <script type=\"text/javascript\" src=\"../../supplementary/js/custom.js\"></script>\n",
       "    \n",
       "    <style>\n",
       "        .output_prompt{opacity:0;}\n",
       "    </style>\n",
       "    \n",
       "    <input id=\"toggle_code\" type=\"button\" value=\"Toggle raw code\">\n"
      ],
      "text/plain": [
       "<IPython.core.display.HTML object>"
      ]
     },
     "execution_count": 52,
     "metadata": {},
     "output_type": "execute_result"
    }
   ],
   "source": [
    "# This code cell starts the necessary setup for Hour of CI lesson notebooks.\n",
    "# First, it enables users to hide and unhide code by producing a 'Toggle raw code' button below.\n",
    "# Second, it imports the hourofci package, which is necessary for lessons and interactive Jupyter Widgets.\n",
    "# Third, it helps hide/control other aspects of Jupyter Notebooks to improve the user experience\n",
    "# This is an initialization cell\n",
    "# It is not displayed because the Slide Type is 'Skip'\n",
    "\n",
    "from IPython.display import HTML, IFrame, Javascript, display\n",
    "from ipywidgets import interactive\n",
    "import ipywidgets as widgets\n",
    "from ipywidgets import Layout\n",
    "\n",
    "import getpass # This library allows us to get the username (User agent string)\n",
    "\n",
    "# import package for hourofci project\n",
    "import sys\n",
    "sys.path.append('../../supplementary') # relative path (may change depending on the location of the lesson notebook)\n",
    "# sys.path.append('supplementary')\n",
    "import hourofci\n",
    "try:\n",
    "    import os\n",
    "    os.chdir('supplementary')\n",
    "except:\n",
    "    pass\n",
    "\n",
    "# load javascript to initialize/hide cells, get user agent string, and hide output indicator\n",
    "# hide code by introducing a toggle button \"Toggle raw code\"\n",
    "HTML(''' \n",
    "    <script type=\"text/javascript\" src=\\\"../../supplementary/js/custom.js\\\"></script>\n",
    "    \n",
    "    <style>\n",
    "        .output_prompt{opacity:0;}\n",
    "    </style>\n",
    "    \n",
    "    <input id=\"toggle_code\" type=\"button\" value=\"Toggle raw code\">\n",
    "''')"
   ]
  },
  {
   "cell_type": "markdown",
   "id": "3841f4da",
   "metadata": {
    "rise": {
     "scroll": true,
     "scrolled": true
    },
    "slideshow": {
     "slide_type": "slide"
    }
   },
   "source": [
    "### Database languages :\n",
    "\n",
    "#### 1) Data definition language(DDL) :\n",
    "DDL is used to define database objects .The conceptual schema is\n",
    "specified by a set of definitions expressed by this language. It also give some\n",
    "details about how to implement this schema in the physical devices used to store\n",
    "the data. This definition includes all the entity sets and their associated attributes\n",
    "and their relation ships. The result of DDL statements will be a set of tables that\n",
    "are stored in special file called data dictionary.\n",
    "#### 2) Data manipulation language(DML) :\n",
    "A DML is a language that enables users to access or manipulate data stored in\n",
    "the database. Data manipulation involves retrieval of data from the database,\n",
    "insertion of new data into the database and deletion of data or modification of\n",
    "existing data.\n"
   ]
  },
  {
   "cell_type": "markdown",
   "id": "78ae947f",
   "metadata": {
    "rise": {
     "scroll": true,
     "scrolled": true
    },
    "slideshow": {
     "slide_type": "slide"
    }
   },
   "source": [
    "#### 3) Data control language(DCL):\n",
    "This language enables users to grant authorization and canceling\n",
    "authorization of database objects.\n",
    "#### 4) Data Query Language (DQL):\n",
    "DQL statements are used for performing queries on the data within schema objects. The purpose of DQL commands is to get the schema relation based on the query passed to it. Although often considered part of DML, the SQL `SELECT` statement is strictly speaking an example of DQL. When adding `FROM` or `WHERE` data manipulators to the `SELECT` statement the statement is then considered part of the DML. \n",
    "\n",
    "### Here we will focus on DDL and DQL languages! \n"
   ]
  },
  {
   "cell_type": "markdown",
   "id": "6a76c6bb",
   "metadata": {
    "slideshow": {
     "slide_type": "slide"
    }
   },
   "source": [
    "### DDL: Creating and Deleting Databases and Tables"
   ]
  },
  {
   "cell_type": "markdown",
   "id": "1dcb5a35",
   "metadata": {
    "slideshow": {
     "slide_type": "slide"
    }
   },
   "source": [
    "\n",
    "#### Creating a new Database\n",
    "The general syntax for creating a new database is\n",
    "\n",
    "```mysql\n",
    "CREATE DATABASE databasename;\n",
    "```"
   ]
  },
  {
   "cell_type": "markdown",
   "id": "bef197b7",
   "metadata": {
    "slideshow": {
     "slide_type": "slide"
    }
   },
   "source": [
    "#### Dropping/Deleting a Database\n",
    "The general syntax for dropping database is\n",
    "\n",
    "```mysql\n",
    "DROP DATABASE databasename;\n",
    "```"
   ]
  },
  {
   "cell_type": "markdown",
   "id": "048b63c9",
   "metadata": {
    "slideshow": {
     "slide_type": "slide"
    }
   },
   "source": [
    "#### Creating a new Table\n",
    "The general syntax for creating a Table\n",
    "\n",
    "```mysql\n",
    "CREATE TABLE Persons (\n",
    "    PersonID int,\n",
    "    LastName varchar(255),\n",
    "    FirstName varchar(255),\n",
    "    Address varchar(255),\n",
    "    City varchar(255)\n",
    ")\n",
    "```"
   ]
  },
  {
   "cell_type": "markdown",
   "id": "81624259",
   "metadata": {
    "slideshow": {
     "slide_type": "slide"
    }
   },
   "source": [
    "#### Dropping existing Table\n",
    "The general syntax for dropping an existing Table\n",
    "\n",
    "```mysql\n",
    "drop table table_name\n",
    "```"
   ]
  },
  {
   "cell_type": "markdown",
   "id": "779fcd08",
   "metadata": {
    "slideshow": {
     "slide_type": "slide"
    },
    "tags": []
   },
   "source": [
    "### DQL: Querying a database"
   ]
  },
  {
   "cell_type": "code",
   "execution_count": null,
   "id": "6067d954",
   "metadata": {
    "slideshow": {
     "slide_type": "-"
    }
   },
   "outputs": [],
   "source": [
    "import displaydatabases\n",
    "from questiondisplay import QueryWindow\n",
    "disp = displaydatabases.Display()\n",
    "disp.displayDatabases"
   ]
  },
  {
   "cell_type": "markdown",
   "id": "cc23e338",
   "metadata": {
    "slideshow": {
     "slide_type": "slide"
    }
   },
   "source": [
    "### Select Statement\n",
    ">**Select statement** is used to **retrieve data from a Database** \n",
    "\n",
    "The **syntax** for **select statement** is \n",
    "\n",
    "```mysql\n",
    "select column1,column2..columnN from table_name\n",
    "```\n",
    "\n",
    "Where column1, column2 are the columns that you want to select from the table (with name table_name)"
   ]
  },
  {
   "cell_type": "markdown",
   "id": "7e0a6bc0",
   "metadata": {
    "slideshow": {
     "slide_type": "slide"
    }
   },
   "source": [
    "##### Select All Columns from a Table\n",
    "The syntax for selecting all columns from a table is\n",
    "\n",
    "```mysql\n",
    "select * from table_name\n",
    "```\n",
    "The <b>*</b> symbol indicates that we would want all the columns from the table. \n",
    "\n",
    "Let's see some concrete example."
   ]
  },
  {
   "cell_type": "markdown",
   "id": "30a1597c",
   "metadata": {
    "slideshow": {
     "slide_type": "slide"
    }
   },
   "source": [
    "**1. Select all columns from actor table**"
   ]
  },
  {
   "cell_type": "code",
   "execution_count": null,
   "id": "5ba0ab8d",
   "metadata": {
    "slideshow": {
     "slide_type": "-"
    }
   },
   "outputs": [],
   "source": [
    "QueryWindow(1).display()"
   ]
  },
  {
   "cell_type": "markdown",
   "id": "267c34df",
   "metadata": {
    "slideshow": {
     "slide_type": "slide"
    }
   },
   "source": [
    "**2. Select all columns from staff table**"
   ]
  },
  {
   "cell_type": "code",
   "execution_count": null,
   "id": "be4f719b",
   "metadata": {
    "slideshow": {
     "slide_type": "-"
    }
   },
   "outputs": [],
   "source": [
    "QueryWindow(2).display()"
   ]
  },
  {
   "cell_type": "markdown",
   "id": "19e6c4d6",
   "metadata": {
    "slideshow": {
     "slide_type": "slide"
    },
    "tags": []
   },
   "source": [
    "##### Select subset of columns from a table"
   ]
  },
  {
   "cell_type": "markdown",
   "id": "b7af3cb4",
   "metadata": {
    "slideshow": {
     "slide_type": "-"
    }
   },
   "source": [
    "The syntax for selecting subset of columns from a table is\n",
    "\n",
    "```mysql\n",
    "select column1,column2...columnN from table_name\n",
    "```\n",
    "Let's see some concrete example."
   ]
  },
  {
   "cell_type": "markdown",
   "id": "c58121b4",
   "metadata": {
    "slideshow": {
     "slide_type": "slide"
    }
   },
   "source": [
    "**3. Select staff_id,first_name and last_name from staff table**"
   ]
  },
  {
   "cell_type": "code",
   "execution_count": null,
   "id": "f0bc72ce",
   "metadata": {},
   "outputs": [],
   "source": [
    "QueryWindow(3).display()"
   ]
  },
  {
   "cell_type": "markdown",
   "id": "ba081ce2",
   "metadata": {
    "slideshow": {
     "slide_type": "slide"
    }
   },
   "source": [
    "**4. Select first_name and last_name from actor table**"
   ]
  },
  {
   "cell_type": "code",
   "execution_count": null,
   "id": "c161b0f7",
   "metadata": {},
   "outputs": [],
   "source": [
    "QueryWindow(4).display()"
   ]
  },
  {
   "cell_type": "markdown",
   "id": "9f2ff48d",
   "metadata": {
    "slideshow": {
     "slide_type": "slide"
    },
    "tags": []
   },
   "source": [
    "##### Select distinct values from a column"
   ]
  },
  {
   "cell_type": "markdown",
   "id": "61597632",
   "metadata": {},
   "source": [
    "The **syntax** for **select distinct statement** is \n",
    "\n",
    "```mysql\n",
    "select distinct column1,column2..columnN from table_name\n",
    "```\n",
    "\n",
    "Where column1, column2, columnN are the columns that you want to select from the table (with name table_name) and only distinct values for column1 will be selected\n",
    "\n",
    "Let's see some concrete example."
   ]
  },
  {
   "cell_type": "markdown",
   "id": "5779052a",
   "metadata": {
    "slideshow": {
     "slide_type": "slide"
    }
   },
   "source": [
    "**5. Select the unique set of cities from employees table**"
   ]
  },
  {
   "cell_type": "code",
   "execution_count": null,
   "id": "ef980c0a",
   "metadata": {},
   "outputs": [],
   "source": [
    "QueryWindow(5).display()"
   ]
  },
  {
   "cell_type": "markdown",
   "id": "0b9f088f",
   "metadata": {
    "slideshow": {
     "slide_type": "slide"
    }
   },
   "source": [
    "\n",
    "\n",
    "<font size=\"+1\"><a style=\"background-color:blue;color:white;padding:12px;margin:10px;font-weight:bold;\" href=\"dbms-3.ipynb\">Click here to go to the next notebook.</a></font>"
   ]
  }
 ],
 "metadata": {
  "celltoolbar": "Slideshow",
  "kernelspec": {
   "display_name": "Python 3 (ipykernel)",
   "language": "python",
   "name": "python3"
  },
  "language_info": {
   "codemirror_mode": {
    "name": "ipython",
    "version": 3
   },
   "file_extension": ".py",
   "mimetype": "text/x-python",
   "name": "python",
   "nbconvert_exporter": "python",
   "pygments_lexer": "ipython3",
   "version": "3.9.5"
  },
  "rise": {
   "autolaunch": true,
   "overlay": "<div class='hciheader'></div><div class='hcifooter'></div>",
   "scroll": true
  }
 },
 "nbformat": 4,
 "nbformat_minor": 5
}
