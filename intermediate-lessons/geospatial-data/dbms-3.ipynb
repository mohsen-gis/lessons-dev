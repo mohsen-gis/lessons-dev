{
 "cells": [
  {
   "cell_type": "markdown",
   "id": "681adb49",
   "metadata": {
    "slideshow": {
     "slide_type": "slide"
    }
   },
   "source": [
    "# Geospatial Data \n",
    "\n",
    "### Part 3 of n\n",
    "# Structured Query Language (SQL)\n",
    "### Talking to a Database through Queries \n",
    "\n"
   ]
  },
  {
   "cell_type": "markdown",
   "id": "fe874d61",
   "metadata": {
    "slideshow": {
     "slide_type": "slide"
    }
   },
   "source": [
    "## Reminder\n",
    "<a href=\"#/slide-2-0\" class=\"navigate-right\" style=\"background-color:blue;color:white;padding:8px;margin:2px;font-weight:bold;\">Continue with the lesson</a>\n",
    "\n",
    "<br>\n",
    "</br>\n",
    "<font size=\"+1\">\n",
    "\n",
    "By continuing with this lesson you are granting your permission to take part in this research study for the Hour of Cyberinfrastructure: Developing Cyber Literacy for GIScience project. In this study, you will be learning about cyberinfrastructure and related concepts using a web-based platform that will take approximately one hour per lesson. Participation in this study is voluntary.\n",
    "\n",
    "Participants in this research must be 18 years or older. If you are under the age of 18 then please exit this webpage or navigate to another website such as the Hour of Code at https://hourofcode.com, which is designed for K-12 students.\n",
    "\n",
    "If you are not interested in participating please exit the browser or navigate to this website: http://www.umn.edu. Your participation is voluntary and you are free to stop the lesson at any time.\n",
    "\n",
    "For the full description please navigate to this website: <a href=\"../../gateway-lesson/gateway/gateway-1.ipynb\">Gateway Lesson Research Study Permission</a>.\n",
    "\n",
    "</font>"
   ]
  },
  {
   "cell_type": "code",
   "execution_count": null,
   "id": "3e9f0803",
   "metadata": {
    "hide_input": true,
    "init_cell": true,
    "slideshow": {
     "slide_type": "skip"
    },
    "tags": [
     "Hide"
    ]
   },
   "outputs": [],
   "source": [
    "# This code cell starts the necessary setup for Hour of CI lesson notebooks.\n",
    "# First, it enables users to hide and unhide code by producing a 'Toggle raw code' button below.\n",
    "# Second, it imports the hourofci package, which is necessary for lessons and interactive Jupyter Widgets.\n",
    "# Third, it helps hide/control other aspects of Jupyter Notebooks to improve the user experience\n",
    "# This is an initialization cell\n",
    "# It is not displayed because the Slide Type is 'Skip'\n",
    "\n",
    "from IPython.display import HTML, IFrame, Javascript, display\n",
    "from ipywidgets import interactive\n",
    "import ipywidgets as widgets\n",
    "from ipywidgets import Layout\n",
    "\n",
    "import getpass # This library allows us to get the username (User agent string)\n",
    "\n",
    "# import package for hourofci project\n",
    "import sys\n",
    "sys.path.append('../../supplementary') # relative path (may change depending on the location of the lesson notebook)\n",
    "# sys.path.append('supplementary')\n",
    "import hourofci\n",
    "try:\n",
    "    import os\n",
    "    os.chdir('supplementary')\n",
    "except:\n",
    "    pass\n",
    "\n",
    "# load javascript to initialize/hide cells, get user agent string, and hide output indicator\n",
    "# hide code by introducing a toggle button \"Toggle raw code\"\n",
    "HTML(''' \n",
    "    <script type=\"text/javascript\" src=\\\"../../supplementary/js/custom.js\\\"></script>\n",
    "    \n",
    "    <style>\n",
    "        .output_prompt{opacity:0;}\n",
    "    </style>\n",
    "    \n",
    "    <input id=\"toggle_code\" type=\"button\" value=\"Toggle raw code\">\n",
    "''')"
   ]
  },
  {
   "cell_type": "code",
   "execution_count": null,
   "id": "d9194c40",
   "metadata": {
    "slideshow": {
     "slide_type": "slide"
    }
   },
   "outputs": [],
   "source": [
    "import displaydatabases\n",
    "from questiondisplay import QueryWindow\n",
    "disp = displaydatabases.Display()\n",
    "disp.displayDatabases"
   ]
  },
  {
   "cell_type": "markdown",
   "id": "4e04d919",
   "metadata": {
    "slideshow": {
     "slide_type": "slide"
    }
   },
   "source": [
    "#### Filter Records with where clause"
   ]
  },
  {
   "cell_type": "markdown",
   "id": "1e9907dc",
   "metadata": {},
   "source": [
    "The where clause is used to extract records that meets a specified condition.\n",
    "\n",
    "The syntax for where clause is \n",
    "\n",
    "```mysql\n",
    "SELECT column1, column2, ..columnN\n",
    "FROM table_name\n",
    "WHERE condition;\n",
    "```\n",
    "\n",
    "Let's look at some concrete examples"
   ]
  },
  {
   "cell_type": "markdown",
   "id": "acaad179",
   "metadata": {
    "slideshow": {
     "slide_type": "slide"
    }
   },
   "source": [
    "**6. From film table select films having length more than 100 minutes**"
   ]
  },
  {
   "cell_type": "code",
   "execution_count": null,
   "id": "7c7a141c",
   "metadata": {},
   "outputs": [],
   "source": [
    "QueryWindow(6).display()"
   ]
  },
  {
   "cell_type": "markdown",
   "id": "7057255b",
   "metadata": {
    "slideshow": {
     "slide_type": "slide"
    }
   },
   "source": [
    "**7. Select all actors with first name JENNIFER FROM actor table**"
   ]
  },
  {
   "cell_type": "code",
   "execution_count": null,
   "id": "0594b504",
   "metadata": {},
   "outputs": [],
   "source": [
    "QueryWindow(7).display()"
   ]
  },
  {
   "cell_type": "markdown",
   "id": "8deb6c1f",
   "metadata": {
    "slideshow": {
     "slide_type": "slide"
    }
   },
   "source": [
    "**8. Select all employees from the employees table who are from Calgary city**"
   ]
  },
  {
   "cell_type": "code",
   "execution_count": null,
   "id": "b0b327b0",
   "metadata": {},
   "outputs": [],
   "source": [
    "QueryWindow(8).display()"
   ]
  },
  {
   "cell_type": "markdown",
   "id": "f68698ee",
   "metadata": {
    "slideshow": {
     "slide_type": "slide"
    }
   },
   "source": [
    "##### AND, OR, NOT for filtering based on multiple conditions \n"
   ]
  },
  {
   "cell_type": "markdown",
   "id": "30b5ba0c",
   "metadata": {},
   "source": [
    "The AND and OR operators are used for filtering records based on more than one condition. "
   ]
  },
  {
   "cell_type": "markdown",
   "id": "8afe29d6",
   "metadata": {
    "slideshow": {
     "slide_type": "slide"
    }
   },
   "source": [
    "The AND operator displays a record if **all the conditions separated by AND are True**\n",
    "\n",
    "The **syntax for AND operator** is \n",
    "\n",
    "```mysql\n",
    "SELECT column1, column2, ..columnN\n",
    "FROM table_name\n",
    "WHERE condition1 AND condition2 AND condition3...\n",
    "```\n",
    "\n",
    "The OR operator displays a record if **any of the conditions separated by OR is True**.\n",
    "\n",
    "The **syntax for OR operator** is \n",
    "\n",
    "```mysql\n",
    "SELECT column1, column2, ..columnN\n",
    "FROM table_name\n",
    "WHERE condition1 OR condition2 OR condition3...\n",
    "```\n",
    "\n",
    "The NOT operator displays a record if the **condition(s) is NOT TRUE**.\n",
    "\n",
    "The **syntax for NOT operator** is \n",
    "\n",
    "```mysql\n",
    "SELECT column1, column2, ..columnN\n",
    "FROM table_name\n",
    "WHERE NOT condition;\n",
    "```\n",
    "Lets look at some examples"
   ]
  },
  {
   "cell_type": "markdown",
   "id": "0aea7680",
   "metadata": {
    "slideshow": {
     "slide_type": "slide"
    }
   },
   "source": [
    "**9. Retrieve employees with title as Sales Manager *and* city as Calgary**"
   ]
  },
  {
   "cell_type": "code",
   "execution_count": null,
   "id": "77500038",
   "metadata": {},
   "outputs": [],
   "source": [
    "QueryWindow(9).display()"
   ]
  },
  {
   "cell_type": "markdown",
   "id": "2ab19a27",
   "metadata": {
    "slideshow": {
     "slide_type": "slide"
    }
   },
   "source": [
    "**10. Retrieve all films from film table with length greater than 100 minutes and rating equals to PG**"
   ]
  },
  {
   "cell_type": "code",
   "execution_count": null,
   "id": "7ccfb59d",
   "metadata": {},
   "outputs": [],
   "source": [
    "QueryWindow(10).display()"
   ]
  },
  {
   "cell_type": "markdown",
   "id": "344d4571",
   "metadata": {
    "slideshow": {
     "slide_type": "slide"
    }
   },
   "source": [
    "**11. Retrieve all films from film table with length greater than 100 minutes *or* rating equals to PG**"
   ]
  },
  {
   "cell_type": "code",
   "execution_count": null,
   "id": "6cd52aa7",
   "metadata": {},
   "outputs": [],
   "source": [
    "QueryWindow(11).display()"
   ]
  },
  {
   "cell_type": "markdown",
   "id": "442623dc",
   "metadata": {
    "slideshow": {
     "slide_type": "slide"
    }
   },
   "source": [
    "**12. Select all invoices from invoices table where BillingCountry is either Canada and USA**"
   ]
  },
  {
   "cell_type": "code",
   "execution_count": null,
   "id": "7d0fe818",
   "metadata": {},
   "outputs": [],
   "source": [
    "QueryWindow(12).display()"
   ]
  },
  {
   "cell_type": "markdown",
   "id": "234fce57",
   "metadata": {
    "slideshow": {
     "slide_type": "slide"
    }
   },
   "source": [
    "**13. Select all invoices from invoices table where Total is greater than 1 and less than 5 or total greater than 10 and less than 100**"
   ]
  },
  {
   "cell_type": "code",
   "execution_count": null,
   "id": "5069b591",
   "metadata": {},
   "outputs": [],
   "source": [
    "QueryWindow(13).display()"
   ]
  },
  {
   "cell_type": "markdown",
   "id": "b27efc56",
   "metadata": {
    "slideshow": {
     "slide_type": "slide"
    }
   },
   "source": [
    "**14. Select all invoices from invoices table that have BillingCountry other than Canada**"
   ]
  },
  {
   "cell_type": "code",
   "execution_count": null,
   "id": "a4622aec",
   "metadata": {},
   "outputs": [],
   "source": [
    "QueryWindow(14).display()"
   ]
  },
  {
   "cell_type": "markdown",
   "id": "36261bbc",
   "metadata": {
    "slideshow": {
     "slide_type": "slide"
    }
   },
   "source": [
    "#### Order records using Order By"
   ]
  },
  {
   "cell_type": "markdown",
   "id": "de9b3b3f",
   "metadata": {},
   "source": [
    "Order by keyword is used to **sort query results by ascending or descending**\n",
    "\n",
    "The syntax for Order by is \n",
    "\n",
    "```mysql\n",
    "SELECT column1, column2, ..columnN\n",
    "FROM table_name\n",
    "ORDER BY column1, column2, ... ASC|DESC;\n",
    "```\n",
    "\n",
    "Lets look at some examples"
   ]
  },
  {
   "cell_type": "markdown",
   "id": "d1068ad0",
   "metadata": {
    "slideshow": {
     "slide_type": "slide"
    }
   },
   "source": [
    "**15. Select first_name and last_name from actor table and sort by actor first_name ascending**"
   ]
  },
  {
   "cell_type": "code",
   "execution_count": null,
   "id": "55b4a1fe",
   "metadata": {},
   "outputs": [],
   "source": [
    "QueryWindow(15).display()"
   ]
  },
  {
   "cell_type": "markdown",
   "id": "f5f3ca04",
   "metadata": {
    "slideshow": {
     "slide_type": "slide"
    }
   },
   "source": [
    "**16. Sort payment table by amount in descending order**"
   ]
  },
  {
   "cell_type": "code",
   "execution_count": null,
   "id": "c1c351b8",
   "metadata": {},
   "outputs": [],
   "source": [
    "QueryWindow(16).display()"
   ]
  },
  {
   "cell_type": "markdown",
   "id": "8cd0ea44",
   "metadata": {
    "slideshow": {
     "slide_type": "slide"
    }
   },
   "source": [
    "**17. Select first_name and last_name from actor table and sort by actor first_name ascending and actor last_name descending**"
   ]
  },
  {
   "cell_type": "code",
   "execution_count": null,
   "id": "6240b136",
   "metadata": {},
   "outputs": [],
   "source": [
    "QueryWindow(17).display()"
   ]
  },
  {
   "cell_type": "markdown",
   "id": "3b4c70e4",
   "metadata": {
    "slideshow": {
     "slide_type": "slide"
    }
   },
   "source": [
    "#### Finding Minimum, Maximum, Average, Sum and Count for Columns"
   ]
  },
  {
   "cell_type": "markdown",
   "id": "421fcee6",
   "metadata": {},
   "source": [
    "Aggregate functions **min(), max(), avg(), sum(), and count()** can be used to find the Minimum, Maximum, Average, Sum and Count for a selected column\n",
    "\n",
    "Syntax for **min()**\n",
    "\n",
    "```mysql\n",
    "SELECT MIN(column_name) FROM table_name\n",
    "```\n",
    "\n",
    "Syntax for **max()**\n",
    "\n",
    "```mysql\n",
    "SELECT MAX(column_name) FROM table_name\n",
    "```\n",
    "\n",
    "Syntax for **avg()**\n",
    "\n",
    "```mysql\n",
    "SELECT AVG(column_name) FROM table_name\n",
    "```\n",
    "\n",
    "Syntax for **sum()**\n",
    "\n",
    "```mysql\n",
    "SELECT sum(column_name) FROM table_name\n",
    "```\n",
    "\n",
    "Syntax for **count()**\n",
    "\n",
    "```mysql\n",
    "SELECT count(column_name) FROM table_name\n",
    "```\n",
    "\n",
    "Let's look at some concrete examples"
   ]
  },
  {
   "cell_type": "markdown",
   "id": "6fb215a8",
   "metadata": {
    "slideshow": {
     "slide_type": "slide"
    }
   },
   "source": [
    "**18. Select minimum amount from payment table.**"
   ]
  },
  {
   "cell_type": "code",
   "execution_count": null,
   "id": "81f65861",
   "metadata": {},
   "outputs": [],
   "source": [
    "QueryWindow(18).display()"
   ]
  },
  {
   "cell_type": "markdown",
   "id": "9ea55501",
   "metadata": {
    "slideshow": {
     "slide_type": "slide"
    }
   },
   "source": [
    "**19. Select maximum amount from payment table.**"
   ]
  },
  {
   "cell_type": "code",
   "execution_count": null,
   "id": "f4a1de6a",
   "metadata": {},
   "outputs": [],
   "source": [
    "QueryWindow(19).display()"
   ]
  },
  {
   "cell_type": "markdown",
   "id": "11fb9db1",
   "metadata": {
    "slideshow": {
     "slide_type": "slide"
    }
   },
   "source": [
    "**20. Select average amount from payment table.**"
   ]
  },
  {
   "cell_type": "code",
   "execution_count": null,
   "id": "b45f8666",
   "metadata": {},
   "outputs": [],
   "source": [
    "QueryWindow(20).display()"
   ]
  },
  {
   "cell_type": "markdown",
   "id": "100a337c",
   "metadata": {
    "slideshow": {
     "slide_type": "slide"
    }
   },
   "source": [
    "**21. Select total amount from payment table.**"
   ]
  },
  {
   "cell_type": "code",
   "execution_count": null,
   "id": "fff07e4c",
   "metadata": {},
   "outputs": [],
   "source": [
    "QueryWindow(21).display()"
   ]
  },
  {
   "cell_type": "markdown",
   "id": "7a48589c",
   "metadata": {
    "slideshow": {
     "slide_type": "slide"
    }
   },
   "source": [
    "**22. Select how many records in payment table.**"
   ]
  },
  {
   "cell_type": "code",
   "execution_count": null,
   "id": "8c830208",
   "metadata": {},
   "outputs": [],
   "source": [
    "QueryWindow(22).display()"
   ]
  },
  {
   "cell_type": "markdown",
   "id": "7b2287fd",
   "metadata": {
    "slideshow": {
     "slide_type": "slide"
    }
   },
   "source": [
    "**23. Select grant total of Total from invoices where BillingCountry is Germany.**"
   ]
  },
  {
   "cell_type": "code",
   "execution_count": null,
   "id": "4526cea1",
   "metadata": {},
   "outputs": [],
   "source": [
    "QueryWindow(23).display()"
   ]
  },
  {
   "cell_type": "markdown",
   "id": "8cc70778",
   "metadata": {
    "slideshow": {
     "slide_type": "slide"
    }
   },
   "source": [
    "**24. Select total number of employees with a title General Manager from employees table**"
   ]
  },
  {
   "cell_type": "code",
   "execution_count": null,
   "id": "139c2a72",
   "metadata": {},
   "outputs": [],
   "source": [
    "QueryWindow(24).display()"
   ]
  },
  {
   "cell_type": "markdown",
   "id": "3bae37d0",
   "metadata": {
    "slideshow": {
     "slide_type": "slide"
    }
   },
   "source": [
    "**25. Select total number of employees with a Country Canada from employees table**"
   ]
  },
  {
   "cell_type": "code",
   "execution_count": null,
   "id": "a410ac63",
   "metadata": {},
   "outputs": [],
   "source": [
    "QueryWindow(25).display()"
   ]
  },
  {
   "cell_type": "markdown",
   "id": "07759bc9",
   "metadata": {
    "slideshow": {
     "slide_type": "slide"
    }
   },
   "source": [
    "\n",
    "\n",
    "<font size=\"+1\"><a style=\"background-color:blue;color:white;padding:12px;margin:10px;font-weight:bold;\" href=\"dbms-4.ipynb\">Click here to go to the next notebook.</a></font>"
   ]
  }
 ],
 "metadata": {
  "celltoolbar": "Slideshow",
  "kernelspec": {
   "display_name": "Python 3 (ipykernel)",
   "language": "python",
   "name": "python3"
  },
  "language_info": {
   "codemirror_mode": {
    "name": "ipython",
    "version": 3
   },
   "file_extension": ".py",
   "mimetype": "text/x-python",
   "name": "python",
   "nbconvert_exporter": "python",
   "pygments_lexer": "ipython3",
   "version": "3.9.5"
  },
  "rise": {
   "autolaunch": true,
   "overlay": "<div class='hciheader'></div><div class='hcifooter'></div>",
   "scroll": true
  }
 },
 "nbformat": 4,
 "nbformat_minor": 5
}
