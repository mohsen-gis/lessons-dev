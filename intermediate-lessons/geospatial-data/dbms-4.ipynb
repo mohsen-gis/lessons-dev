{
 "cells": [
  {
   "cell_type": "markdown",
   "id": "681adb49",
   "metadata": {
    "slideshow": {
     "slide_type": "slide"
    }
   },
   "source": [
    "# Geospatial Data \n",
    "\n",
    "### Part 4 of n\n",
    "# Structured Query Language (SQL)\n",
    "### Talking to a Database through Queries \n",
    "\n",
    "### DQL and DML\n",
    "\n"
   ]
  },
  {
   "cell_type": "markdown",
   "id": "fe874d61",
   "metadata": {
    "slideshow": {
     "slide_type": "slide"
    }
   },
   "source": [
    "## Reminder\n",
    "<a href=\"#/slide-2-0\" class=\"navigate-right\" style=\"background-color:blue;color:white;padding:8px;margin:2px;font-weight:bold;\">Continue with the lesson</a>\n",
    "\n",
    "<br>\n",
    "</br>\n",
    "<font size=\"+1\">\n",
    "\n",
    "By continuing with this lesson you are granting your permission to take part in this research study for the Hour of Cyberinfrastructure: Developing Cyber Literacy for GIScience project. In this study, you will be learning about cyberinfrastructure and related concepts using a web-based platform that will take approximately one hour per lesson. Participation in this study is voluntary.\n",
    "\n",
    "Participants in this research must be 18 years or older. If you are under the age of 18 then please exit this webpage or navigate to another website such as the Hour of Code at https://hourofcode.com, which is designed for K-12 students.\n",
    "\n",
    "If you are not interested in participating please exit the browser or navigate to this website: http://www.umn.edu. Your participation is voluntary and you are free to stop the lesson at any time.\n",
    "\n",
    "For the full description please navigate to this website: <a href=\"../../gateway-lesson/gateway/gateway-1.ipynb\">Gateway Lesson Research Study Permission</a>.\n",
    "\n",
    "</font>"
   ]
  },
  {
   "cell_type": "code",
   "execution_count": null,
   "id": "3e9f0803",
   "metadata": {
    "hide_input": true,
    "init_cell": true,
    "slideshow": {
     "slide_type": "skip"
    },
    "tags": [
     "Hide"
    ]
   },
   "outputs": [],
   "source": [
    "# This code cell starts the necessary setup for Hour of CI lesson notebooks.\n",
    "# First, it enables users to hide and unhide code by producing a 'Toggle raw code' button below.\n",
    "# Second, it imports the hourofci package, which is necessary for lessons and interactive Jupyter Widgets.\n",
    "# Third, it helps hide/control other aspects of Jupyter Notebooks to improve the user experience\n",
    "# This is an initialization cell\n",
    "# It is not displayed because the Slide Type is 'Skip'\n",
    "\n",
    "from IPython.display import HTML, IFrame, Javascript, display\n",
    "from ipywidgets import interactive\n",
    "import ipywidgets as widgets\n",
    "from ipywidgets import Layout\n",
    "\n",
    "import getpass # This library allows us to get the username (User agent string)\n",
    "\n",
    "# import package for hourofci project\n",
    "import sys\n",
    "sys.path.append('../../supplementary') # relative path (may change depending on the location of the lesson notebook)\n",
    "# sys.path.append('supplementary')\n",
    "import hourofci\n",
    "try:\n",
    "    import os\n",
    "    os.chdir('supplementary')\n",
    "except:\n",
    "    pass\n",
    "\n",
    "# load javascript to initialize/hide cells, get user agent string, and hide output indicator\n",
    "# hide code by introducing a toggle button \"Toggle raw code\"\n",
    "HTML(''' \n",
    "    <script type=\"text/javascript\" src=\\\"../../supplementary/js/custom.js\\\"></script>\n",
    "    \n",
    "    <style>\n",
    "        .output_prompt{opacity:0;}\n",
    "    </style>\n",
    "    \n",
    "    <input id=\"toggle_code\" type=\"button\" value=\"Toggle raw code\">\n",
    "''')"
   ]
  },
  {
   "cell_type": "code",
   "execution_count": null,
   "id": "529a23e9",
   "metadata": {
    "slideshow": {
     "slide_type": "slide"
    }
   },
   "outputs": [],
   "source": [
    "import displaydatabases\n",
    "from questiondisplay import QueryWindow\n",
    "disp = displaydatabases.Display()\n",
    "disp.displayDatabases"
   ]
  },
  {
   "cell_type": "markdown",
   "id": "ba8918bc",
   "metadata": {
    "slideshow": {
     "slide_type": "slide"
    }
   },
   "source": [
    "#### Grouping Records together by Group By statement"
   ]
  },
  {
   "cell_type": "markdown",
   "id": "ed48c316",
   "metadata": {},
   "source": [
    "The Group By statement is used to **arrange identical data into groups**. The group by clause follows the where clause (if it's present) and precedes the order by clause (if it's present). For example you want to aggregate the total number of invoices by Country, or you want to get the count of employees with different Title (how many General Manager, Sales Manager etc)\n",
    "\n",
    "The Group By statement is often used with aggregate functions (COUNT(), MAX(), MIN(), SUM(), AVG()) to group the result-set by one or more columns.\n",
    "\n",
    "The syntax for Group By statement\n",
    "\n",
    "```mysql\n",
    "SELECT column_name(s)\n",
    "FROM table_name\n",
    "WHERE condition\n",
    "GROUP BY column_name(s)\n",
    "ORDER BY column_name(s);\n",
    "```\n",
    "\n",
    "The where condition and order by are optional and depends up on the use-case.\n",
    "\n",
    "Let's look at some examples"
   ]
  },
  {
   "cell_type": "markdown",
   "id": "bb911f7f",
   "metadata": {
    "slideshow": {
     "slide_type": "slide"
    }
   },
   "source": [
    "**26. Select sum Total of invoices for each BillingCountry**"
   ]
  },
  {
   "cell_type": "code",
   "execution_count": null,
   "id": "cec7413a",
   "metadata": {},
   "outputs": [],
   "source": [
    "QueryWindow(26).display()"
   ]
  },
  {
   "cell_type": "markdown",
   "id": "c99b46cd",
   "metadata": {
    "slideshow": {
     "slide_type": "slide"
    }
   },
   "source": [
    "**27. Select number of invoices for each BillingCountry**"
   ]
  },
  {
   "cell_type": "code",
   "execution_count": null,
   "id": "add768a6",
   "metadata": {},
   "outputs": [],
   "source": [
    "QueryWindow(27).display()"
   ]
  },
  {
   "cell_type": "markdown",
   "id": "e58d5745",
   "metadata": {
    "slideshow": {
     "slide_type": "slide"
    }
   },
   "source": [
    "**28. select average length of films from film table grouped on rating.**"
   ]
  },
  {
   "cell_type": "code",
   "execution_count": null,
   "id": "76b0cc3a",
   "metadata": {},
   "outputs": [],
   "source": [
    "QueryWindow(28).display()"
   ]
  },
  {
   "cell_type": "markdown",
   "id": "fa1d0c31",
   "metadata": {
    "slideshow": {
     "slide_type": "slide"
    }
   },
   "source": [
    "**29. Select maximum rental_rate of films from film table grouped on rating.**"
   ]
  },
  {
   "cell_type": "code",
   "execution_count": null,
   "id": "150684a8",
   "metadata": {},
   "outputs": [],
   "source": [
    "QueryWindow(29).display()"
   ]
  },
  {
   "cell_type": "markdown",
   "id": "c1dc443e",
   "metadata": {
    "slideshow": {
     "slide_type": "slide"
    }
   },
   "source": [
    "**30. Select average rental_rate for each rating for each release_year.**"
   ]
  },
  {
   "cell_type": "code",
   "execution_count": null,
   "id": "4dc3cfca",
   "metadata": {},
   "outputs": [],
   "source": [
    "QueryWindow(30).display()"
   ]
  },
  {
   "cell_type": "markdown",
   "id": "3a85648f",
   "metadata": {
    "slideshow": {
     "slide_type": "slide"
    }
   },
   "source": [
    "**31. Select total number of invoices for each BillingCity for the BillingCountry Germany.**"
   ]
  },
  {
   "cell_type": "code",
   "execution_count": null,
   "id": "d4a887f7",
   "metadata": {},
   "outputs": [],
   "source": [
    "QueryWindow(31).display()"
   ]
  },
  {
   "cell_type": "markdown",
   "id": "fd47850f",
   "metadata": {
    "slideshow": {
     "slide_type": "slide"
    }
   },
   "source": [
    "**32. Select sum total of Total for invoices for each BillingCity for the BillingCountry Germany and order the records by the sum total in descending order.**"
   ]
  },
  {
   "cell_type": "code",
   "execution_count": null,
   "id": "d2c14f20",
   "metadata": {},
   "outputs": [],
   "source": [
    "QueryWindow(32).display()"
   ]
  },
  {
   "cell_type": "markdown",
   "id": "159ea578",
   "metadata": {
    "slideshow": {
     "slide_type": "slide"
    }
   },
   "source": [
    "#### Aliases for providing Temporary Name"
   ]
  },
  {
   "cell_type": "markdown",
   "id": "631d3895",
   "metadata": {},
   "source": [
    "Aliases are used to give a **table or column in a table a temporary name**. Most of the time aliases are used to make the **query more readable**. Aliases **only exists until the query is running**.  \n",
    "\n",
    "The syntax for column alias is \n",
    "\n",
    "```mysql\n",
    "SELECT column_name AS alias_name\n",
    "FROM table_name;\n",
    "```\n",
    "\n",
    "And syntax for table alias is \n",
    "\n",
    "```mysql\n",
    "SELECT column_name\n",
    "FROM table_name as alias_name;\n",
    "```\n",
    "\n",
    "Let's look at some examples"
   ]
  },
  {
   "cell_type": "markdown",
   "id": "adb5f787",
   "metadata": {
    "slideshow": {
     "slide_type": "slide"
    }
   },
   "source": [
    "**33. Select sum total of Total for invoices for each BillingCity for the BillingCountry Germany and order the records by the sum total in descending order. Name the sum total of Total as TotalAmount**"
   ]
  },
  {
   "cell_type": "code",
   "execution_count": null,
   "id": "963e0903",
   "metadata": {},
   "outputs": [],
   "source": [
    "QueryWindow(33).display()"
   ]
  },
  {
   "cell_type": "markdown",
   "id": "758dc093",
   "metadata": {
    "slideshow": {
     "slide_type": "slide"
    }
   },
   "source": [
    "**34. Select total number of invoices for each BillingCity for the BillingCountry Germany. Name the total number of invoices column as TotalInvoices**"
   ]
  },
  {
   "cell_type": "code",
   "execution_count": null,
   "id": "a9596d30",
   "metadata": {},
   "outputs": [],
   "source": [
    "QueryWindow(34).display()"
   ]
  },
  {
   "cell_type": "markdown",
   "id": "3bf6f580",
   "metadata": {
    "slideshow": {
     "slide_type": "slide"
    }
   },
   "source": [
    "For **table aliases** here are some examples,\n",
    "\n",
    "```mysql\n",
    "select * from invoices as i\n",
    "```\n",
    "We can use **(.)** *operator* for accessing columns when using tale aliases.\n",
    "\n",
    "```mysql\n",
    "select i.InvoiceId,i.BillingCountry from invoices as i\n",
    "```\n",
    "\n",
    "Even when you are not using alias operator, the full qualified column name can be used to refer to columns. For example\n",
    "\n",
    "```mysql\n",
    "select invoices.InvoiceId,invoices.BillingCountry from invoices\n",
    "```\n",
    "\n",
    "Such full qualified names are paticularly useful when you are using multiple tables with same column names (mostly in Join queries) in a single query."
   ]
  },
  {
   "cell_type": "markdown",
   "id": "84f06703",
   "metadata": {
    "slideshow": {
     "slide_type": "slide"
    },
    "toc-hr-collapsed": true
   },
   "source": [
    "#### Join for Combining Multiple Tables"
   ]
  },
  {
   "cell_type": "markdown",
   "id": "d45656a0",
   "metadata": {},
   "source": [
    "A join clause is used to **combine records from multiple tables using related columns between them.** It is one of the most powerful operation in a relational database (joining based on relations)."
   ]
  },
  {
   "cell_type": "markdown",
   "id": "d22df634",
   "metadata": {
    "slideshow": {
     "slide_type": "slide"
    }
   },
   "source": [
    "##### Inner Join"
   ]
  },
  {
   "cell_type": "markdown",
   "id": "950f3a60",
   "metadata": {
    "slideshow": {
     "slide_type": "slide"
    }
   },
   "source": [
    "For inner join **records that have matching values in both tables will only be retrieved**.  \n",
    "\n",
    "![innerjoin](supplementary/innerjoin.PNG)\n",
    "\n",
    "The syntax for inner join is \n",
    "\n",
    "```mysql\n",
    "SELECT column_name(s)\n",
    "FROM table1\n",
    "INNER JOIN table2\n",
    "ON table1.column_name = table2.column_name\n",
    "```\n",
    "\n",
    "Inner join can also be written without an explicit inner join clause\n",
    "\n",
    "```mysql\n",
    "SELECT column_name(s)\n",
    "FROM table1,table2\n",
    "where table1.column_name = table2.column_name\n",
    "```\n",
    "\n",
    "Let's look at an example"
   ]
  },
  {
   "cell_type": "markdown",
   "id": "6fb4825a",
   "metadata": {
    "slideshow": {
     "slide_type": "slide"
    }
   },
   "source": [
    "**35. Display the city along with country from city and country table.**"
   ]
  },
  {
   "cell_type": "code",
   "execution_count": null,
   "id": "81246418",
   "metadata": {},
   "outputs": [],
   "source": [
    "QueryWindow(35).display()"
   ]
  },
  {
   "cell_type": "markdown",
   "id": "95c88330",
   "metadata": {
    "slideshow": {
     "slide_type": "slide"
    }
   },
   "source": [
    "**36. Select title and actor first_name and actor last_name for all the films from film, actor and film_actor tables**"
   ]
  },
  {
   "cell_type": "code",
   "execution_count": null,
   "id": "41beeff5",
   "metadata": {},
   "outputs": [],
   "source": [
    "QueryWindow(36).display()"
   ]
  },
  {
   "cell_type": "markdown",
   "id": "be5c7d46",
   "metadata": {
    "slideshow": {
     "slide_type": "slide"
    }
   },
   "source": [
    "**37. Select title of all English movies from film table**"
   ]
  },
  {
   "cell_type": "code",
   "execution_count": null,
   "id": "fc29243a",
   "metadata": {},
   "outputs": [],
   "source": [
    "QueryWindow(37).display()"
   ]
  },
  {
   "cell_type": "markdown",
   "id": "8b27d529",
   "metadata": {
    "slideshow": {
     "slide_type": "slide"
    }
   },
   "source": [
    "**38. Select artist Name and the total number of albums composed by them as TotalAlbums**"
   ]
  },
  {
   "cell_type": "code",
   "execution_count": null,
   "id": "da593f04",
   "metadata": {},
   "outputs": [],
   "source": [
    "QueryWindow(38).display()"
   ]
  },
  {
   "cell_type": "markdown",
   "id": "1772eda9",
   "metadata": {
    "slideshow": {
     "slide_type": "slide"
    }
   },
   "source": [
    "**39. select customers first_name and last_name and the total amount they spend as TotalAmount. Sort the results by total amount in descending order.**"
   ]
  },
  {
   "cell_type": "code",
   "execution_count": null,
   "id": "e937e69e",
   "metadata": {},
   "outputs": [],
   "source": [
    "QueryWindow(39).display()"
   ]
  },
  {
   "cell_type": "markdown",
   "id": "2c172a28",
   "metadata": {
    "slideshow": {
     "slide_type": "slide"
    }
   },
   "source": [
    "**40. select customers first_name and last_name and the total number of rentals they had as TotalRentals. Sort the results by total rentals in descending order.**"
   ]
  },
  {
   "cell_type": "code",
   "execution_count": null,
   "id": "85cffb03",
   "metadata": {},
   "outputs": [],
   "source": [
    "QueryWindow(40).display()"
   ]
  },
  {
   "cell_type": "markdown",
   "id": "3d2c0dfd",
   "metadata": {
    "slideshow": {
     "slide_type": "slide"
    }
   },
   "source": [
    "### Manipulating Data in a Database (Data Manipulation Language (DML))"
   ]
  },
  {
   "cell_type": "markdown",
   "id": "f514a82f",
   "metadata": {
    "slideshow": {
     "slide_type": "slide"
    }
   },
   "source": [
    "#### Inserting New Records to a Table"
   ]
  },
  {
   "cell_type": "markdown",
   "id": "251b1932",
   "metadata": {},
   "source": [
    "The syntax for inserting records to a table is \n",
    "\n",
    "```mysql\n",
    "INSERT INTO table_name (column1, column2, column3, ..columnN)\n",
    "VALUES (value1, value2, value3, ..valueN)\n",
    "```\n"
   ]
  },
  {
   "cell_type": "markdown",
   "id": "bf88b6d1",
   "metadata": {
    "slideshow": {
     "slide_type": "slide"
    }
   },
   "source": [
    "#### Deleting Records from a Table"
   ]
  },
  {
   "cell_type": "markdown",
   "id": "cc27a8ef",
   "metadata": {},
   "source": [
    "The syntax for deleting records from a table is \n",
    "\n",
    "```mysql\n",
    "DELETE FROM table_name WHERE condition;\n",
    "```"
   ]
  },
  {
   "cell_type": "code",
   "execution_count": null,
   "id": "55662eec",
   "metadata": {},
   "outputs": [],
   "source": [
    "disp.displayDatabases"
   ]
  },
  {
   "cell_type": "markdown",
   "id": "4b65c293",
   "metadata": {
    "slideshow": {
     "slide_type": "slide"
    }
   },
   "source": [
    "\n",
    "\n",
    "<font size=\"+1\"><a style=\"background-color:blue;color:white;padding:12px;margin:10px;font-weight:bold;\" href=\"dbms-5.ipynb\">Click here to go to the next notebook.</a></font>"
   ]
  }
 ],
 "metadata": {
  "celltoolbar": "Slideshow",
  "kernelspec": {
   "display_name": "Python 3 (ipykernel)",
   "language": "python",
   "name": "python3"
  },
  "language_info": {
   "codemirror_mode": {
    "name": "ipython",
    "version": 3
   },
   "file_extension": ".py",
   "mimetype": "text/x-python",
   "name": "python",
   "nbconvert_exporter": "python",
   "pygments_lexer": "ipython3",
   "version": "3.9.5"
  },
  "rise": {
   "autolaunch": true,
   "overlay": "<div class='hciheader'></div><div class='hcifooter'></div>",
   "scroll": true
  }
 },
 "nbformat": 4,
 "nbformat_minor": 5
}
